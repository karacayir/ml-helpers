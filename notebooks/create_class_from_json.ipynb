{
 "cells": [
  {
   "cell_type": "code",
   "execution_count": 1,
   "metadata": {},
   "outputs": [],
   "source": [
    "import sys\n",
    "\n",
    "sys.path.append(\"..\")\n",
    "from src.utilities import create_class_from_config\n",
    "\n",
    "config_file_path = \"../data/config.json\"\n",
    "config = create_class_from_config(config_file_path=config_file_path)\n"
   ]
  },
  {
   "cell_type": "code",
   "execution_count": 4,
   "metadata": {},
   "outputs": [
    {
     "name": "stdout",
     "output_type": "stream",
     "text": [
      "<class 'src.utilities.Customer_process'>\n",
      "2018-01-01\n",
      "['customer_id', 'max_price', 'total_price_norm']\n",
      "data.csv\n",
      "transactions\n",
      "['customer_id', 'max_price', 'total_price_norm']\n"
     ]
    }
   ],
   "source": [
    "print(config.customer_process)\n",
    "print(config.customer_process.date_filter_start)\n",
    "print(config.customer_process.output_cols)\n",
    "\n",
    "print(config.transaction_process.input_csv)\n",
    "print(config.customer_process.price_normalizer)\n",
    "print(config.customer_process.output_cols)"
   ]
  }
 ],
 "metadata": {
  "kernelspec": {
   "display_name": "Python 3",
   "language": "python",
   "name": "python3"
  },
  "language_info": {
   "codemirror_mode": {
    "name": "ipython",
    "version": 3
   },
   "file_extension": ".py",
   "mimetype": "text/x-python",
   "name": "python",
   "nbconvert_exporter": "python",
   "pygments_lexer": "ipython3",
   "version": "3.9.6"
  },
  "orig_nbformat": 4,
  "vscode": {
   "interpreter": {
    "hash": "aee8b7b246df8f9039afb4144a1f6fd8d2ca17a180786b69acc140d282b71a49"
   }
  }
 },
 "nbformat": 4,
 "nbformat_minor": 2
}
